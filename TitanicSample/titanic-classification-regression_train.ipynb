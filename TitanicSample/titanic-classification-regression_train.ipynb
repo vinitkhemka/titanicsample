{
 "cells": [
  {
   "cell_type": "code",
   "execution_count": null,
   "metadata": {
    "_cell_guid": "f8b120b2-aecd-4c89-acf8-309de0623000",
    "_uuid": "1f38d2a8-b056-4950-9f4c-8b0c5e6c574d"
   },
   "outputs": [],
   "source": [
    "import pandas as pd\n",
    "import numpy as np\n",
    "import matplotlib.pyplot as plt;\n",
    "import seaborn as sns\n",
    "%matplotlib inline"
   ]
  },
  {
   "cell_type": "code",
   "execution_count": 2,
   "metadata": {
    "_cell_guid": "a83e0dca-00a8-4f0c-91ee-8ff4827f18a8",
    "_uuid": "2fccc693-f638-4f54-9604-9768991566a2"
   },
   "outputs": [],
   "source": [
    "train = pd.read_csv('./train.csv')"
   ]
  },
  {
   "cell_type": "code",
   "execution_count": 3,
   "metadata": {
    "_cell_guid": "ca213e42-43e3-4f69-bb6c-d3358d9a8934",
    "_uuid": "500a0190-6ce3-471a-9033-669e8996ef21"
   },
   "outputs": [],
   "source": [
    "def impute_age(cols):\n",
    "    Age = cols[0]\n",
    "    Pclass = cols[1]\n",
    "    \n",
    "    if pd.isnull(Age):\n",
    "\n",
    "        if Pclass == 1:\n",
    "            return 37\n",
    "\n",
    "        elif Pclass == 2:\n",
    "            return 29\n",
    "\n",
    "        else:\n",
    "            return 24\n",
    "\n",
    "    else:\n",
    "        return Age"
   ]
  },
  {
   "cell_type": "markdown",
   "metadata": {
    "_cell_guid": "0b76ab42-3f75-408b-93dc-e5bd9d846e7f",
    "_uuid": "275055d1-38b2-4e06-afe1-5a1dd5e7a510"
   },
   "source": [
    "Now apply that function!"
   ]
  },
  {
   "cell_type": "code",
   "execution_count": 4,
   "metadata": {
    "_cell_guid": "8f711705-a3d8-46ad-bc16-7999bf470e2b",
    "_uuid": "f0971c93-45d0-4838-9bdd-d01918c4c69e"
   },
   "outputs": [],
   "source": [
    "train['Age'] = train[['Age','Pclass']].apply(impute_age,axis=1)"
   ]
  },
  {
   "cell_type": "code",
   "execution_count": 5,
   "metadata": {},
   "outputs": [],
   "source": [
    "train['Embarked'] = train['Embarked'].fillna('S')\n"
   ]
  },
  {
   "cell_type": "code",
   "execution_count": 6,
   "metadata": {
    "_cell_guid": "40bf2f1b-76d3-4e33-8e96-aea6b13f7ba6",
    "_uuid": "2a5ae069-b203-4152-90d5-aa3b214f5935"
   },
   "outputs": [],
   "source": [
    "train.drop('Cabin',axis=1,inplace=True)"
   ]
  },
  {
   "cell_type": "code",
   "execution_count": 7,
   "metadata": {
    "_cell_guid": "304e4df6-e578-4010-833f-0f1f93c0ca7b",
    "_uuid": "205d9e89-5135-40a9-baab-d13c1036f196"
   },
   "outputs": [],
   "source": [
    "train.dropna(inplace=True)"
   ]
  },
  {
   "cell_type": "code",
   "execution_count": 8,
   "metadata": {
    "_cell_guid": "21c4dce6-8fa3-4c28-be1e-3178031629ad",
    "_uuid": "abc79025-8ad2-4fe2-804e-38517df0ac8a"
   },
   "outputs": [],
   "source": [
    "sex = pd.get_dummies(train['Sex'],drop_first=True)\n",
    "embark = pd.get_dummies(train['Embarked'],drop_first=True)"
   ]
  },
  {
   "cell_type": "code",
   "execution_count": 9,
   "metadata": {
    "_cell_guid": "0f873b59-8484-446e-b5ee-4ef369deb427",
    "_uuid": "e8a00bfd-89e6-4ae2-b6f1-66d9776e4c5c"
   },
   "outputs": [],
   "source": [
    "train.drop(['Sex','Embarked','Name','Ticket'],axis=1,inplace=True)"
   ]
  },
  {
   "cell_type": "code",
   "execution_count": 10,
   "metadata": {
    "_cell_guid": "986df581-b6f7-4074-ac5f-c6fdb51f13e1",
    "_uuid": "701d86a7-2256-48e3-a865-80ce9af6420f"
   },
   "outputs": [],
   "source": [
    "train = pd.concat([train,sex,embark],axis=1)"
   ]
  },
  {
   "cell_type": "code",
   "execution_count": 11,
   "metadata": {
    "_cell_guid": "8caf44d6-833f-4c29-a499-b8af9bbd9eb3",
    "_uuid": "f684ebdf-6983-4b97-8891-ea2aaf201f31"
   },
   "outputs": [],
   "source": [
    "from sklearn.model_selection import train_test_split"
   ]
  },
  {
   "cell_type": "code",
   "execution_count": 12,
   "metadata": {
    "_cell_guid": "9daa890e-9afe-472c-8550-4aa553ee8fd9",
    "_uuid": "b1167f0a-8737-4ea7-885f-58f075a04ab4"
   },
   "outputs": [],
   "source": [
    "X_train, X_test, y_train, y_test = train_test_split(train.drop(['Survived'],axis=1), \n",
    "                                                    train['Survived'], test_size=0.10, \n",
    "                                                    random_state=101)"
   ]
  },
  {
   "cell_type": "code",
   "execution_count": 13,
   "metadata": {
    "_cell_guid": "70d6a3f5-894a-4f24-87b9-e2e1f1463fc9",
    "_uuid": "28b193b2-3cbf-413a-a432-4809f9ecbe40"
   },
   "outputs": [],
   "source": [
    "from sklearn.ensemble import RandomForestClassifier"
   ]
  },
  {
   "cell_type": "code",
   "execution_count": 14,
   "metadata": {
    "_cell_guid": "a12c4b2a-7d3c-41b0-8564-c1197e231dc2",
    "_uuid": "06091e72-a27b-40d7-971b-fa7b8ee6a8cd"
   },
   "outputs": [
    {
     "data": {
      "text/plain": [
       "RandomForestClassifier(n_estimators=500)"
      ]
     },
     "execution_count": 14,
     "metadata": {},
     "output_type": "execute_result"
    }
   ],
   "source": [
    "rf= RandomForestClassifier(n_estimators=500)\n",
    "rf.fit(X_train,y_train)"
   ]
  },
  {
   "cell_type": "code",
   "execution_count": 15,
   "metadata": {},
   "outputs": [],
   "source": [
    "import pickle as pkl\n",
    "pkl.dump(rf,open(\"model.pkl\",\"wb\"))"
   ]
  },
  {
   "cell_type": "code",
   "execution_count": 16,
   "metadata": {
    "_cell_guid": "08bd74ef-be89-4dbd-bd25-c956262061ae",
    "_uuid": "1d2ed9ec-749e-4891-ac68-cdae97b398f7"
   },
   "outputs": [],
   "source": [
    "rf_pre=rf.predict(X_test)"
   ]
  }
 ],
 "metadata": {
  "kernelspec": {
   "display_name": "Python 3",
   "language": "python",
   "name": "python3"
  },
  "language_info": {
   "codemirror_mode": {
    "name": "ipython",
    "version": 3
   },
   "file_extension": ".py",
   "mimetype": "text/x-python",
   "name": "python",
   "nbconvert_exporter": "python",
   "pygments_lexer": "ipython3",
   "version": "3.7.6"
  }
 },
 "nbformat": 4,
 "nbformat_minor": 1
}
