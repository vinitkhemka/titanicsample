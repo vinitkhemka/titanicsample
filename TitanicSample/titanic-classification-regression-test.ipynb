{
 "cells": [
  {
   "cell_type": "code",
   "execution_count": 2,
   "metadata": {
    "_cell_guid": "f8b120b2-aecd-4c89-acf8-309de0623000",
    "_uuid": "1f38d2a8-b056-4950-9f4c-8b0c5e6c574d"
   },
   "outputs": [],
   "source": [
    "import pandas as pd\n",
    "import numpy as np\n",
    "import matplotlib.pyplot as plt;\n",
    "import seaborn as sns\n",
    "%matplotlib inline"
   ]
  },
  {
   "cell_type": "code",
   "execution_count": 3,
   "metadata": {
    "_cell_guid": "ca213e42-43e3-4f69-bb6c-d3358d9a8934",
    "_uuid": "500a0190-6ce3-471a-9033-669e8996ef21"
   },
   "outputs": [],
   "source": [
    "def impute_age(cols):\n",
    "    Age = cols[0]\n",
    "    Pclass = cols[1]\n",
    "    \n",
    "    if pd.isnull(Age):\n",
    "\n",
    "        if Pclass == 1:\n",
    "            return 37\n",
    "\n",
    "        elif Pclass == 2:\n",
    "            return 29\n",
    "\n",
    "        else:\n",
    "            return 24\n",
    "\n",
    "    else:\n",
    "        return Age"
   ]
  },
  {
   "cell_type": "code",
   "execution_count": 4,
   "metadata": {},
   "outputs": [],
   "source": [
    "import pickle as pkl\n",
    "rf=pkl.load(open(\"./model.pkl\",'rb'))"
   ]
  },
  {
   "cell_type": "code",
   "execution_count": 5,
   "metadata": {
    "_cell_guid": "81c8bb37-0a9f-4bdb-94f3-7061f96d631c",
    "_uuid": "ce8b26eb-537f-4868-85f2-fe2cec2cc843"
   },
   "outputs": [],
   "source": [
    "test = pd.read_csv('./test.csv')"
   ]
  },
  {
   "cell_type": "code",
   "execution_count": 6,
   "metadata": {
    "_cell_guid": "a202d402-7714-40e8-9954-09140cdc5a79",
    "_uuid": "37e82c95-fdee-4930-8cec-574f961a07de"
   },
   "outputs": [],
   "source": [
    "test.drop('Cabin',axis=1,inplace=True)"
   ]
  },
  {
   "cell_type": "code",
   "execution_count": 7,
   "metadata": {
    "_cell_guid": "e26f9907-ee39-401b-9c25-d87d7461fa3e",
    "_uuid": "d0b1546f-fdb2-49e6-a196-1e10578a748f"
   },
   "outputs": [],
   "source": [
    "test['Fare'].fillna(test['Fare'].median(), inplace=True)"
   ]
  },
  {
   "cell_type": "code",
   "execution_count": 8,
   "metadata": {
    "_cell_guid": "ee5211c5-79f9-48e3-9b2c-87975cd5c8c9",
    "_uuid": "3dbad7a2-65ca-43b9-bc76-2b444df0a1e2"
   },
   "outputs": [],
   "source": [
    "test['Age'] = test[['Age','Pclass']].apply(impute_age,axis=1)"
   ]
  },
  {
   "cell_type": "code",
   "execution_count": 9,
   "metadata": {
    "_cell_guid": "f1269896-08fd-4a32-a264-963c5538420f",
    "_uuid": "4681e0f4-d46f-4715-ab4c-849422f49b0b"
   },
   "outputs": [],
   "source": [
    "sex_test = pd.get_dummies(test['Sex'],drop_first=True)\n",
    "embark_test= pd.get_dummies(test['Embarked'],drop_first=True)"
   ]
  },
  {
   "cell_type": "code",
   "execution_count": 10,
   "metadata": {
    "_cell_guid": "17efc58b-2c69-4b3b-b572-218c08aad4db",
    "_uuid": "65e55f4f-c493-4fe0-8227-481c6c43c3b6"
   },
   "outputs": [],
   "source": [
    "test.drop(['Sex','Embarked','Name','Ticket'],axis=1,inplace=True)"
   ]
  },
  {
   "cell_type": "code",
   "execution_count": 11,
   "metadata": {
    "_cell_guid": "374a300a-3bca-4eab-8833-05c3624f63f6",
    "_uuid": "27993b64-0e45-4e9e-b151-0de672a52606"
   },
   "outputs": [],
   "source": [
    "test = pd.concat([test,sex_test,embark_test],axis=1)"
   ]
  },
  {
   "cell_type": "code",
   "execution_count": 12,
   "metadata": {},
   "outputs": [],
   "source": [
    "test_prediction=rf.predict(test)"
   ]
  },
  {
   "cell_type": "code",
   "execution_count": 13,
   "metadata": {
    "_cell_guid": "4260a9b3-dbfa-4ea1-9aa6-665ddbc88bb0",
    "_uuid": "e0383c89-f9ae-47f2-9be3-974584c79fb5"
   },
   "outputs": [],
   "source": [
    "test_pred = pd.DataFrame(test_prediction, columns= ['Survived'])"
   ]
  },
  {
   "cell_type": "code",
   "execution_count": 14,
   "metadata": {
    "_cell_guid": "b7692e23-6c53-4b91-8cb1-4c9a37da7096",
    "_uuid": "41e0a5bc-840f-4525-b102-021e9142cd52"
   },
   "outputs": [],
   "source": [
    "new_test = pd.concat([test, test_pred], axis=1, join='inner')"
   ]
  },
  {
   "cell_type": "code",
   "execution_count": 15,
   "metadata": {
    "_cell_guid": "e9137165-6f75-4cf1-9ace-2250defbe72a",
    "_uuid": "072fac73-faf1-46ce-b9c2-7aba41f661b2"
   },
   "outputs": [],
   "source": [
    "df= new_test[['PassengerId' ,'Survived']]"
   ]
  },
  {
   "cell_type": "code",
   "execution_count": 16,
   "metadata": {
    "_cell_guid": "3614e615-fa42-49fd-a632-028d954c7fad",
    "_kg_hide-output": true,
    "_uuid": "85f93489-01de-4ae2-b764-09108b4fdfe8"
   },
   "outputs": [],
   "source": [
    "df.to_csv('predictions.csv' , index=False)"
   ]
  }
 ],
 "metadata": {
  "kernelspec": {
   "display_name": "Python 3",
   "language": "python",
   "name": "python3"
  },
  "language_info": {
   "codemirror_mode": {
    "name": "ipython",
    "version": 3
   },
   "file_extension": ".py",
   "mimetype": "text/x-python",
   "name": "python",
   "nbconvert_exporter": "python",
   "pygments_lexer": "ipython3",
   "version": "3.7.6"
  }
 },
 "nbformat": 4,
 "nbformat_minor": 1
}
